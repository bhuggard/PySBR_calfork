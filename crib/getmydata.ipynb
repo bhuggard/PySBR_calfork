{
 "cells": [
  {
   "cell_type": "code",
   "execution_count": 86,
   "metadata": {},
   "outputs": [],
   "source": [
    "import pandas as pd \n",
    "import numpy as np \n",
    "from pysbr import *\n",
    "from datetime import datetime"
   ]
  },
  {
   "cell_type": "code",
   "execution_count": 87,
   "metadata": {},
   "outputs": [],
   "source": [
    "start_date = datetime.strptime('2023-09-07', '%Y-%m-%d')\n",
    "end_date = datetime.strptime('2024-01-08', '%Y-%m-%d')\n",
    "cols = ['event', 'participant', 'spread / total', 'american odds', 'result']\n",
    "\n",
    "nfl = NFL()\n",
    "sb = Sportsbook()"
   ]
  },
  {
   "cell_type": "code",
   "execution_count": 88,
   "metadata": {},
   "outputs": [
    {
     "data": {
      "text/plain": [
       "<pysbr.queries.eventsbydate.EventsByDate at 0x25b71af8d10>"
      ]
     },
     "execution_count": 88,
     "metadata": {},
     "output_type": "execute_result"
    }
   ],
   "source": [
    "e = EventsByDate(nfl.league_id, start_date)\n",
    "e\n",
    "\n",
    "#find a way to make events by date range work, AND we need the over under for each game"
   ]
  },
  {
   "cell_type": "code",
   "execution_count": 94,
   "metadata": {},
   "outputs": [],
   "source": [
    "# use this to find stuff to use when you get an object, typically .dataframe or .list, early findings here\n",
    "# markets = LeagueMarkets(nfl.league_id)\n",
    "# print(dir(markets))"
   ]
  },
  {
   "cell_type": "code",
   "execution_count": 90,
   "metadata": {},
   "outputs": [],
   "source": [
    "league_markets = LeagueMarkets(nfl.league_id)\n",
    "\n",
    "market_id_df = league_markets.dataframe()\n",
    "\n",
    "market_id_df\n",
    "\n",
    "market_id_list = market_id_df['market id'].tolist()\n"
   ]
  },
  {
   "cell_type": "code",
   "execution_count": 91,
   "metadata": {},
   "outputs": [],
   "source": [
    "# market_names = MarketsByMarketIds(market_id_list)"
   ]
  },
  {
   "cell_type": "code",
   "execution_count": 92,
   "metadata": {},
   "outputs": [],
   "source": [
    "cl = CurrentLines(e.ids(), nfl.market_ids('pointspread'), sb.ids('Bovada')[0])"
   ]
  },
  {
   "cell_type": "code",
   "execution_count": 93,
   "metadata": {},
   "outputs": [
    {
     "data": {
      "text/html": [
       "<div>\n",
       "<style scoped>\n",
       "    .dataframe tbody tr th:only-of-type {\n",
       "        vertical-align: middle;\n",
       "    }\n",
       "\n",
       "    .dataframe tbody tr th {\n",
       "        vertical-align: top;\n",
       "    }\n",
       "\n",
       "    .dataframe thead th {\n",
       "        text-align: right;\n",
       "    }\n",
       "</style>\n",
       "<table border=\"1\" class=\"dataframe\">\n",
       "  <thead>\n",
       "    <tr style=\"text-align: right;\">\n",
       "      <th></th>\n",
       "      <th>event</th>\n",
       "      <th>participant</th>\n",
       "      <th>spread / total</th>\n",
       "      <th>american odds</th>\n",
       "      <th>result</th>\n",
       "    </tr>\n",
       "  </thead>\n",
       "  <tbody>\n",
       "    <tr>\n",
       "      <th>0</th>\n",
       "      <td>Detroit Lions@Kansas City Chiefs</td>\n",
       "      <td>KC</td>\n",
       "      <td>-4</td>\n",
       "      <td>-110</td>\n",
       "      <td>L</td>\n",
       "    </tr>\n",
       "    <tr>\n",
       "      <th>1</th>\n",
       "      <td>Detroit Lions@Kansas City Chiefs</td>\n",
       "      <td>DET</td>\n",
       "      <td>4</td>\n",
       "      <td>-110</td>\n",
       "      <td>W</td>\n",
       "    </tr>\n",
       "  </tbody>\n",
       "</table>\n",
       "</div>"
      ],
      "text/plain": [
       "                              event participant  spread / total  \\\n",
       "0  Detroit Lions@Kansas City Chiefs          KC              -4   \n",
       "1  Detroit Lions@Kansas City Chiefs         DET               4   \n",
       "\n",
       "   american odds result  \n",
       "0           -110      L  \n",
       "1           -110      W  "
      ]
     },
     "execution_count": 93,
     "metadata": {},
     "output_type": "execute_result"
    }
   ],
   "source": [
    "cl.dataframe(e)[cols]"
   ]
  },
  {
   "cell_type": "code",
   "execution_count": 62,
   "metadata": {},
   "outputs": [],
   "source": [
    "#HOLY CUNT SHE WORKS I JUST NEED TO GRAB OVER/UNDER"
   ]
  },
  {
   "cell_type": "code",
   "execution_count": null,
   "metadata": {},
   "outputs": [],
   "source": []
  }
 ],
 "metadata": {
  "kernelspec": {
   "display_name": "base",
   "language": "python",
   "name": "python3"
  },
  "language_info": {
   "codemirror_mode": {
    "name": "ipython",
    "version": 3
   },
   "file_extension": ".py",
   "mimetype": "text/x-python",
   "name": "python",
   "nbconvert_exporter": "python",
   "pygments_lexer": "ipython3",
   "version": "3.11.4"
  }
 },
 "nbformat": 4,
 "nbformat_minor": 2
}
